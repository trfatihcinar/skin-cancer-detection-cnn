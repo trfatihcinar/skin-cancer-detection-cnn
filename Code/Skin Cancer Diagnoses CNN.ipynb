{
 "cells": [
  {
   "cell_type": "markdown",
   "metadata": {},
   "source": [
    "# The Miracle\n"
   ]
  },
  {
   "cell_type": "markdown",
   "metadata": {},
   "source": [
    "## an Artificial Intelligence Application for Detecting the Type of Skin Cancer"
   ]
  },
  {
   "cell_type": "markdown",
   "metadata": {},
   "source": [
    "Developed and Coded for COM3551 Artificial Intelligence Lecture in Ankara University by Muhammed Fatih Çinar (15290744)"
   ]
  },
  {
   "cell_type": "markdown",
   "metadata": {},
   "source": [
    "## Problem\n",
    "\n",
    "Each year tens of thousands of people die because of misdiagnose. It’s a serious problem. If one is not diagnosed properly and accurately, this might lead to death or serious damage to the person. \n",
    "\n",
    "\n",
    "Misdiagnoses happen because of the fact that human brain learns extremely slow. \n",
    "Doctors do not encounter ENOUGH CASES to get to know the disease better. Huge problem. Even the best doctors can’t see more than 10.000 cases in his/her lifetime. This will lead us to the fact that even the best doctor is 75% accurate in diagnoses. \n",
    "This is a huge issue.\n",
    "\n",
    "In this case, if we do not diagnose the skin cancer type correctly, we can’t save the patient. Detecting the type of the skin cancer is a huge issue. \n"
   ]
  },
  {
   "cell_type": "markdown",
   "metadata": {},
   "source": [
    "# Purpose\n",
    "Training a neural network with thousands of images of skin cancer and making computer to learn what skin cancer is and how to detect it.\n",
    "Final output will be THE TYPE OF THE LESION."
   ]
  },
  {
   "cell_type": "markdown",
   "metadata": {},
   "source": [
    "## The Architecture Overviewed\n",
    "\n",
    "![architecture](https://github.com/trfatihcinar/skin-cancer-detection-cnn/blob/main/Sources/Images/skin-cancer-basic-architecture.jpg?raw=true)"
   ]
  },
  {
   "cell_type": "markdown",
   "metadata": {},
   "source": [
    "# Outline\n",
    "\n",
    "### Step 1 : What is the Skin Cancer\n",
    "### Step 2 : Getting to Know the Database\n",
    "### Step 3 : Theory of Convolutional Neural Networks\n",
    "### Step 4 : Importing Libraries\n",
    "### Step 5 : Hashing Images with Their Paths\n",
    "### Step 6 : Reading and Processing Data\n",
    "### Step 7 : Visualizing the Data\n",
    "### Step 8 : Loading and Resizing the Images\n",
    "### Step 9 : Train and Test Split\n",
    "### Step 10 : Normalization\n",
    "### Step 11 : Label Encoding\n",
    "### Step 12 : Train and Validation Split\n",
    "### Step 13 : Reshape Train, Test and Validation Data\n",
    "### Step 14 : Building the Model\n",
    "### Step 15 : Adam Optimization and Annealer\n",
    "### Step 16 : Data Augmentation\n",
    "### Step 17 : Training the Model\n",
    "### Step 18 : Testing and Model Evaluation\n",
    "### Step 19 : Conclusion\n",
    "\n"
   ]
  },
  {
   "cell_type": "markdown",
   "metadata": {},
   "source": [
    "# Step 1 : What is Skin Cancer?\n"
   ]
  },
  {
   "cell_type": "markdown",
   "metadata": {},
   "source": [
    "### What is a Cancer?\n",
    "Cancer occurs when normal cells undergo a transformation and grow and multiply without normal controls.\n",
    "\n",
    "\n",
    "### What is a Skin Cancer?\n",
    "Skin cancer — the abnormal growth of skin cells — most often develops on skin exposed to the sun. But this common form of cancer can also occur on areas of your skin not ordinarily exposed to sunlight.\n",
    "\n",
    "![Types of Skin Cancer](https://images.everydayhealth.com/images/what-are-the-different-types-of-skin-cancer-722x406.jpg)\n",
    "\n",
    "### How Serious Is It?\n",
    "Skin cancer is the most common of all human cancers. In 2020, more than 100,000 people in the U.S. are expected to be diagnosed with some type of the disease. Nearly 7,000 are expected to die.\n",
    "\n",
    "### Types of Skin Cancer\n",
    "There are three major types of skin cancer — basal cell carcinoma, squamous cell carcinoma and melanoma.\n",
    "\n",
    "In this Artifical Intelligence Application, we will distinguish seven different types of skin cancers.\n",
    "    -> Melanocytic Nevi\n",
    "    -> Melanoma\n",
    "    -> Benign Keratosis-like Lesions\n",
    "    -> Basal Cell Carcinoma\n",
    "    -> Actinic Keratoses\n",
    "    -> Vascular Lesions\n",
    "    -> Dermatofibroma\n",
    "\n",
    "### Which Types are Fatal\n",
    "The vast majority of skin cancers are basal cell carcinomas and squamous cell carcinomas. While malignant, these are unlikely to spread to other parts of the body if treated early. They may be locally disfiguring if not treated early.\n",
    "\n",
    "A small but significant number of skin cancers are malignant melanomas. Malignant melanoma is a highly aggressive cancer that tends to spread to other parts of the body. These cancers may be fatal if not treated early.\n"
   ]
  },
  {
   "cell_type": "markdown",
   "metadata": {},
   "source": [
    "# Step 2 : Getting to Know the Dataset\n",
    "<br>\n",
    "\n",
    "**Size of the dataset is 5 GB.**\n",
    "\n",
    "SOURCE OF THE DATA : [Kaggle / Skin Cancer MNIST](https://www.kaggle.com/singhn156/skin-cancer-classificatiom)\n",
    "\n",
    "It contains  <br>\n",
    "[1] **Image files of LESIONS** <br>\n",
    "Source: <br>\n",
    "    HAM10000_images_part_1 (directory) <br>\n",
    "\tHAM10000_images_part_2 (directory) <br>\n",
    "**10.015 Images of Lesions** <br>\n",
    "\n",
    "[2] **More Information About LESIONS  METADATA** <br>\n",
    "Source: HAM10000_metadata.csv <br> <br>\n",
    "\n",
    "Note: Dataset also includes 8x8 RGB, 8x8 Grayscale, 28x28 RGB,  28x28 Grayscale versions of the images. But since this is a health issua, 8x8 or 28x28 images will result in a serious decline in accuracy. We should ignore those files.\n",
    "\n",
    "\n",
    "### Meaning of the Columns in METADATA\n",
    "\n",
    "**lesion_id**: unique id of the lesion, assigned by hospital <br>\n",
    "not important for us in this algorithm <br>\n",
    "**image_id**: id of the image of the lesion <br>\n",
    "this allows us to find the IMAGE from the Image Folders <br>  \n",
    "**age**: age of the person <br>\n",
    "**sex**: sex of the person <br>\n",
    "**dx**: type of the lesion  <br>\n",
    "it can be of seven different types <br>\n",
    "**localization**: Where this lesion is located in the body <br>\n",
    "\n",
    "### Images\n",
    "\n",
    "***Dimensions :  600 x 450 pixels***\n",
    "\n",
    "\n"
   ]
  },
  {
   "cell_type": "markdown",
   "metadata": {},
   "source": [
    "# Step 3 : Theory of Convolutional Neural Networks\n"
   ]
  },
  {
   "cell_type": "markdown",
   "metadata": {},
   "source": [
    "All around the world, convolutional neural newtorks are used for image classification.\n",
    "\n",
    "<br>\n",
    "\n",
    "## Architecture of Convolutional Neural Networks (CNN)\n",
    "\n",
    "<br>\n",
    "\n",
    "![CNN](https://miro.medium.com/max/2510/1*vkQ0hXDaQv57sALXAJquxA.jpeg)\n",
    "\n"
   ]
  },
  {
   "cell_type": "markdown",
   "metadata": {},
   "source": [
    "\n",
    "### What is an Image?\n",
    "\n",
    "Inputs to CNNs are IMAGES. Images are numbers, in other words, array of pixels. <br>\n",
    "In simple terms, IMAGES ARE MATRICES. <br>\n",
    "\n",
    "Each pixel has an RGB value between 0-255. <br>\n",
    "\n",
    "![ImageRGB](https://previews.123rf.com/images/papulov74/papulov741802/papulov74180200002/96082800-extremely-closed-shot-of-lcd-tv-rgb-pixel.jpg)\n"
   ]
  },
  {
   "cell_type": "markdown",
   "metadata": {},
   "source": [
    "### Test and Train Split\n",
    "\n",
    "Input data MUST BE SPLIT TO TWO PARTS, \n",
    "\n",
    "TRAIN DATA: with train data we train CNN \n",
    "\n",
    "TEST DATA: we test how good/well our neural network is by testing it with real images\n",
    "\n",
    "If we use all the images, without splitting, Neural Network would memorize all the images.\n",
    "\n",
    "This is called OVERFITTING. It’s a massive problem.\n"
   ]
  },
  {
   "cell_type": "markdown",
   "metadata": {},
   "source": [
    "## Normalization\n",
    "\n",
    "In a typical neural network, trillions of mathematicals operations are done. \n",
    "\n",
    "From derivatives to multiplications. \n",
    "\n",
    "If we use values between 0-255, it would slow the neural network down. So it is best to rearrange the values between 0-1. \n",
    "\n",
    "This is called NORMALIZATION.\n"
   ]
  },
  {
   "cell_type": "markdown",
   "metadata": {},
   "source": [
    "## Reshape\n",
    "\n",
    "The same logic as normalization. An image might have more than one million pixels. \n",
    "\n",
    "Consider example 1920 x 1080. It means 2 million pixels. \n",
    "\n",
    "The NN can’t be trained with this much of pixel values. \n",
    "\n",
    "Therefore, we lose some pixel information, we lose some details of the image by reshaping it.\n"
   ]
  },
  {
   "cell_type": "markdown",
   "metadata": {},
   "source": [
    "## Label Encoding\n",
    "\n",
    "Labels are strings. But computers work with numbers. Therefore we convert STRING LABELS TO NUMBERS.\n",
    "\n",
    "Keras does this in a similar manner like BYTE-ARRAY.\n",
    "\n",
    "For label 2, it uses [0,0,1,0,0,0,0,0]\n"
   ]
  },
  {
   "cell_type": "markdown",
   "metadata": {},
   "source": [
    "## Patterns and Pattern Recognition\n",
    "\n",
    "Objects in real life, consist of small parts, such as circles, points, lines, edges. \n",
    "\n",
    "Consider a square, for example, it consists of 4 different lines.\n",
    "\n",
    "Consider an eye, for example, it consists of tons of circles and very small lines.\n",
    "\n",
    "If, HOWEVER, we could ever figure out a way TO DISTINGUISH THOSE SMALL PARTS, WE WOULD BE ABLE TO DISTINGUISH BIGGER OBJECTS as well.\n"
   ]
  },
  {
   "cell_type": "markdown",
   "metadata": {},
   "source": [
    "## Convolutions and Convolution Operation\n",
    "\n",
    "Convolution Operation is basically FEATURE DETECTORS.\n",
    "\n",
    "We apply convolution kernels(matrices) to the image. It can be a 3x3 matris for example.\n",
    "\n",
    "By applying these kind of matrices, we are able to detect basic primitive structures.\n",
    "\n",
    "In other words, THIS IS FEATURE DETECTING.\n",
    "\n",
    "![CONVOLUTION-OPERATION](https://image.ibb.co/m4FQC9/gec.jpg)"
   ]
  },
  {
   "cell_type": "markdown",
   "metadata": {},
   "source": [
    "### Feature detector detects features, like edges or convex shapes. "
   ]
  },
  {
   "cell_type": "markdown",
   "metadata": {},
   "source": [
    "## Applying Activation Function ReLU During Convolution Operation\n",
    "\n",
    "Apply an activation function, better apply ReLU(Rectified Linear Units), to break up linearity.\n",
    "\n",
    "![relu](https://preview.ibb.co/gbcQvU/RELU.jpg)\n",
    "\n",
    "As seen negative values are gone after ReLU. Linearity is broken.\n",
    "\n",
    "Non-linearity is DESIRED in AI. Because if linearity continues, all the operations would be affected by each other and there would be no mean to apply tons of operations.\n",
    "\n",
    "By appling ReLU, linearity is broken. \n"
   ]
  },
  {
   "cell_type": "markdown",
   "metadata": {},
   "source": [
    "## Padding\n",
    "\n",
    "After applying convolution operation, the size of the image IS REDUCED.\n",
    "\n",
    "This is not something desired during convolution operation. \n",
    "\n",
    "Therefore, we apply PADDING to the image,\n",
    "\n",
    "i.e. Size of the image is first INCREASED, and then by convolution operation it is reduced TO THE SAME SIZE AS BEFORE.\n",
    "\n",
    "That is why called SAME PADDING.\n",
    "\n",
    "By appling same padding, LOSS OF INFORMATION IS AVOIDED.\n",
    "\n",
    "![padding](https://preview.ibb.co/noH5Up/padding.jpg)"
   ]
  },
  {
   "cell_type": "markdown",
   "metadata": {},
   "source": [
    "## Pooling\n",
    "\n",
    "We can’t keep all the information in the image till the artificial neural network. That would make a vector of hundreds of thousands of pixel information and that would make it impossible to train the ANN.\n",
    "\n",
    "That is why we need to choose representatives. This means we divide the image into pools, and choose a value to represent that pool,\n",
    "in the end, even though some pixel information is lost, this would make it real to train the ANN.\n",
    "\n",
    "This is called DOWN-SAMPLING.\n",
    "\n",
    "Techniques such as Max Pooling, Average Pooling etc. can be applied.\n",
    "\n",
    "![pooling](https://preview.ibb.co/gsNYFU/maxpool.jpg)\n"
   ]
  },
  {
   "cell_type": "markdown",
   "metadata": {},
   "source": [
    "## Flattening\n",
    "\n",
    "Artifical Neural Networks work with vectors, that is why we need to FLATTEN, \n",
    "\n",
    "in other words, convert the 2D, 3D matrix into 1D Vector. \n",
    "\n",
    "And then we can feed it to ANN.\n",
    "\n",
    "![flattening](https://image.ibb.co/c7eVvU/flattenigng.jpg)"
   ]
  },
  {
   "cell_type": "markdown",
   "metadata": {},
   "source": [
    "## Full Connection Layer\n",
    "## = Artifical Neural Network"
   ]
  },
  {
   "cell_type": "markdown",
   "metadata": {},
   "source": [
    "After processing the image with convolution operations and pooling operations, we have a vector that represent our image, 1D vector,\n",
    "\n",
    "this will get into an Artifical Neural Network, to make predictions.\n",
    "\n",
    "\n",
    "**Input Layer**: Input is 1D vector, that represents our image.\n",
    "\n",
    "**Hidden Layers**: Similar to the nature of human brains, that is extremely complex and made up of convolutions and layers. \n",
    "The more hidden layers, the better the Neural Network.\n",
    "\n",
    "**Output Layer**: The prediction, made by the Neural Network\n",
    "\n"
   ]
  },
  {
   "cell_type": "markdown",
   "metadata": {},
   "source": [
    "![full-connection](https://preview.ibb.co/evzsAU/fullyc.jpg)"
   ]
  },
  {
   "cell_type": "markdown",
   "metadata": {},
   "source": [
    "In this operation, all the neurons above are connected to each other. And all the Convolutional Neural Network is done."
   ]
  },
  {
   "cell_type": "markdown",
   "metadata": {},
   "source": [
    "## Applying Dropout\n",
    "\n",
    "Dropout is a technique to break connections between some neurons that are randomly selected.\n",
    "\n",
    "The aim is to make the Artifical Neural Network (ANN) more stable and to avoid memorizing the data. \n",
    "\n",
    "Mathematical counterpart is ignoring some neurons while making a forward-propagation.\n"
   ]
  },
  {
   "cell_type": "markdown",
   "metadata": {},
   "source": [
    "![dropout](https://preview.ibb.co/e7yPPp/dropout.jpg)"
   ]
  },
  {
   "cell_type": "markdown",
   "metadata": {},
   "source": [
    "# Step 4 : Importing Libraries\n"
   ]
  },
  {
   "cell_type": "code",
   "execution_count": 1,
   "metadata": {
    "_cell_guid": "79c7e3d0-c299-4dcb-8224-4455121ee9b0",
    "_uuid": "d629ff2d2480ee46fbb7e2d37f6b5fab8052498a"
   },
   "outputs": [
    {
     "name": "stderr",
     "output_type": "stream",
     "text": [
      "Using TensorFlow backend.\n"
     ]
    },
    {
     "data": {
      "text/plain": [
       "'\\nSUMMARIZED - LIBRARIES USED\\n\\nMatplot Library\\nPandas\\nSeaborn\\nNumpy\\nKeras\\nTensorflow\\n'"
      ]
     },
     "execution_count": 1,
     "metadata": {},
     "output_type": "execute_result"
    }
   ],
   "source": [
    "\n",
    "%matplotlib inline  \n",
    "# This command will keep the graphs produced by Matplotlib in the same page as the code itself\n",
    "\n",
    "# 1. MatPlot Library\n",
    "# will be needed for plotting\n",
    "import matplotlib.pyplot as plt\n",
    "# 2. Numpy\n",
    "# Linear Algebra library\n",
    "# needed for all matrix and vector operations\n",
    "import numpy as np\n",
    "# 3. Pandas\n",
    "# needed for reading CSV data\n",
    "import pandas as pd\n",
    "# 4. OS\n",
    "# needed for operating system operations, getting image names etc.\n",
    "import os\n",
    "\n",
    "from glob import glob # for getting images\n",
    "\n",
    "import seaborn as sns # for data visualizations\n",
    "from PIL import Image # for reading the images\n",
    "\n",
    "from sklearn.preprocessing import label_binarize # for label encoding\n",
    "from sklearn.metrics import confusion_matrix # for creating the confusion matrix\n",
    "import itertools # for iteration operations\n",
    "\n",
    "# 5. Keras\n",
    "# All the CNN, ANN Neural Networks things will be done with Keras ** MOST IMPORTANT ONE **\n",
    "import keras\n",
    "from keras.utils.np_utils import to_categorical # used for label encoding\n",
    "from keras.models import Sequential # for creating a CNN Model\n",
    "from keras.layers import Dense, Dropout, Flatten, Conv2D, MaxPool2D # Dropout, Flatten and Pooling operations\n",
    "from keras.layers.normalization import BatchNormalization\n",
    "from keras.optimizers import Adam  # Adaptive Momentum Optimizer\n",
    "from keras.preprocessing.image import ImageDataGenerator # for Data Augmentation\n",
    "from keras.callbacks import ReduceLROnPlateau \n",
    "from sklearn.model_selection import train_test_split # for Train-Test Split\n",
    "\n",
    "# 6. Tensorflow\n",
    "import tensorflow as tf\n",
    "\n",
    "\n",
    "SKIN_CANCER_DATA_FOLDER_NAME = \"skin-cancer-mnist-ham10000\"\n",
    "\n",
    "\n",
    "\n",
    "\"\"\"\n",
    "SUMMARIZED - LIBRARIES USED\n",
    "\n",
    "Matplot Library\n",
    "Pandas\n",
    "Seaborn\n",
    "Numpy\n",
    "Keras\n",
    "Tensorflow\n",
    "\"\"\""
   ]
  },
  {
   "cell_type": "markdown",
   "metadata": {},
   "source": [
    "# Step 5 : Hashing Images with Their Paths\n"
   ]
  },
  {
   "cell_type": "markdown",
   "metadata": {},
   "source": [
    "Purpose: There are two sources of images. HAM10000_images_part1.zip and HAM100000_images_part2.zip\n",
    "We need to reach to all the images, read their IMAGEID, and HASH IMAGE_ID and IMAGE_PATH.\n"
   ]
  },
  {
   "cell_type": "code",
   "execution_count": 2,
   "metadata": {},
   "outputs": [],
   "source": [
    "\"\"\"\n",
    "We have to join/merge images from both folder HAM10000_images_part1.zip and HAM10000_images_part2.zip into one dictionary\n",
    "\n",
    "Dictionary Style\n",
    "ImageID : Image Path\n",
    "\n",
    "Length = Number of Images\n",
    "\"\"\"\n",
    "\n",
    "\n",
    "# For Desktop Environment\n",
    "\n",
    "baseDirectoryofSkinCancerData = \".\"  # in this directory of the code\n",
    "\n",
    "dictionaryOfImages = {}\n",
    "# will store all the images with ImageID with ImagePath\n",
    "\n",
    "directorySkinCancerData = os.path.join(baseDirectoryofSkinCancerData, SKIN_CANCER_DATA_FOLDER_NAME )\n",
    "for imageItself in glob(os.path.join(directorySkinCancerData, '*', '*.jpg')):\n",
    "    # This means for each file in this directory i.e. For Each Image, Get the Image\n",
    "    \n",
    "    # Get ImageID from Path information\n",
    "    imageID = os.path.splitext(os.path.basename(imageItself))[0] # Get the first element\n",
    "    # imageItself = Path\n",
    "    \n",
    "    # Add this ImageID:ImagePath pair to the Dictionary\n",
    "    \n",
    "    dictionaryOfImages[imageID] = imageItself"
   ]
  },
  {
   "cell_type": "code",
   "execution_count": 3,
   "metadata": {},
   "outputs": [],
   "source": [
    "\"\"\"\n",
    "LESION TYPES AND ABBREVIATIONS DICTIONARY\n",
    "\"\"\"\n",
    "\n",
    "# lesion = tümör, doku bozulması, kanserli doku (Turkish translation)\n",
    "\n",
    "lesionTypesDictionary = {\n",
    "    'nv': 'Melanocytic nevi',\n",
    "    'mel': 'Melanoma',\n",
    "    'bkl': 'Benign keratosis-like lesions ',\n",
    "    'bcc': 'Basal cell carcinoma',\n",
    "    'akiec': 'Actinic keratoses',\n",
    "    'vasc': 'Vascular lesions',\n",
    "    'df': 'Dermatofibroma'\n",
    "}\n",
    "\n",
    "# This dictionary will be needed to display the type of the cancer.\n",
    "# Because in the dataset, lesion type is coded like this.\n"
   ]
  },
  {
   "cell_type": "markdown",
   "metadata": {},
   "source": [
    "# Step 6 : Reading & Processing the Data"
   ]
  },
  {
   "cell_type": "markdown",
   "metadata": {},
   "source": [
    "Read \"HAM100000_metadata.csv\".\n",
    "All the information about images are in this file."
   ]
  },
  {
   "cell_type": "code",
   "execution_count": 4,
   "metadata": {},
   "outputs": [],
   "source": [
    "\n",
    "SKIN_CANCER_DATA_FILE_NAME = 'HAM10000_metadata.csv'\n",
    "# KAGGLE: FILE PATH: ../input/skin-cancer-mnist-ham10000/HAM10000_metadata.csv\n",
    "\n",
    "\n",
    "folderName = os.path.join(baseDirectoryofSkinCancerData, SKIN_CANCER_DATA_FOLDER_NAME)\n",
    "fullFileName = os.path.join(folderName, SKIN_CANCER_DATA_FILE_NAME)\n",
    "skinCancerDataFrame = pd.read_csv(fullFileName) # Read this file\n",
    "\n",
    "\n",
    "# Create New Columns \n",
    "\n",
    "# Add Image Path to the Table\n",
    "skinCancerDataFrame[\"path\"] = skinCancerDataFrame[\"image_id\"].map(dictionaryOfImages.get)\n",
    "\n",
    "# Add TYPE OF THE LESION to the Table\n",
    "# This information is there but we add the full name\n",
    "skinCancerDataFrame[\"type\"] = skinCancerDataFrame[\"dx\"].map(lesionTypesDictionary.get)\n",
    "# Add TYPE CATEGORY to the Table\n",
    "# Label Encoding type of stuff\n",
    "skinCancerDataFrame[\"type-id\"] = pd.Categorical(skinCancerDataFrame[\"type\"]).codes\n",
    "\n",
    "\n",
    "# Now the dataframe has IMAGE PATH, FULL TYPE NAME and TYPE ID"
   ]
  },
  {
   "cell_type": "code",
   "execution_count": 5,
   "metadata": {},
   "outputs": [
    {
     "data": {
      "text/html": [
       "<div>\n",
       "<style scoped>\n",
       "    .dataframe tbody tr th:only-of-type {\n",
       "        vertical-align: middle;\n",
       "    }\n",
       "\n",
       "    .dataframe tbody tr th {\n",
       "        vertical-align: top;\n",
       "    }\n",
       "\n",
       "    .dataframe thead th {\n",
       "        text-align: right;\n",
       "    }\n",
       "</style>\n",
       "<table border=\"1\" class=\"dataframe\">\n",
       "  <thead>\n",
       "    <tr style=\"text-align: right;\">\n",
       "      <th></th>\n",
       "      <th>lesion_id</th>\n",
       "      <th>image_id</th>\n",
       "      <th>dx</th>\n",
       "      <th>dx_type</th>\n",
       "      <th>age</th>\n",
       "      <th>sex</th>\n",
       "      <th>localization</th>\n",
       "      <th>path</th>\n",
       "      <th>type</th>\n",
       "      <th>type-id</th>\n",
       "    </tr>\n",
       "  </thead>\n",
       "  <tbody>\n",
       "    <tr>\n",
       "      <td>0</td>\n",
       "      <td>HAM_0000118</td>\n",
       "      <td>ISIC_0027419</td>\n",
       "      <td>bkl</td>\n",
       "      <td>histo</td>\n",
       "      <td>80.0</td>\n",
       "      <td>male</td>\n",
       "      <td>scalp</td>\n",
       "      <td>.\\skin-cancer-mnist-ham10000\\HAM10000_images_p...</td>\n",
       "      <td>Benign keratosis-like lesions</td>\n",
       "      <td>2</td>\n",
       "    </tr>\n",
       "    <tr>\n",
       "      <td>1</td>\n",
       "      <td>HAM_0000118</td>\n",
       "      <td>ISIC_0025030</td>\n",
       "      <td>bkl</td>\n",
       "      <td>histo</td>\n",
       "      <td>80.0</td>\n",
       "      <td>male</td>\n",
       "      <td>scalp</td>\n",
       "      <td>.\\skin-cancer-mnist-ham10000\\HAM10000_images_p...</td>\n",
       "      <td>Benign keratosis-like lesions</td>\n",
       "      <td>2</td>\n",
       "    </tr>\n",
       "    <tr>\n",
       "      <td>2</td>\n",
       "      <td>HAM_0002730</td>\n",
       "      <td>ISIC_0026769</td>\n",
       "      <td>bkl</td>\n",
       "      <td>histo</td>\n",
       "      <td>80.0</td>\n",
       "      <td>male</td>\n",
       "      <td>scalp</td>\n",
       "      <td>.\\skin-cancer-mnist-ham10000\\HAM10000_images_p...</td>\n",
       "      <td>Benign keratosis-like lesions</td>\n",
       "      <td>2</td>\n",
       "    </tr>\n",
       "    <tr>\n",
       "      <td>3</td>\n",
       "      <td>HAM_0002730</td>\n",
       "      <td>ISIC_0025661</td>\n",
       "      <td>bkl</td>\n",
       "      <td>histo</td>\n",
       "      <td>80.0</td>\n",
       "      <td>male</td>\n",
       "      <td>scalp</td>\n",
       "      <td>.\\skin-cancer-mnist-ham10000\\HAM10000_images_p...</td>\n",
       "      <td>Benign keratosis-like lesions</td>\n",
       "      <td>2</td>\n",
       "    </tr>\n",
       "    <tr>\n",
       "      <td>4</td>\n",
       "      <td>HAM_0001466</td>\n",
       "      <td>ISIC_0031633</td>\n",
       "      <td>bkl</td>\n",
       "      <td>histo</td>\n",
       "      <td>75.0</td>\n",
       "      <td>male</td>\n",
       "      <td>ear</td>\n",
       "      <td>.\\skin-cancer-mnist-ham10000\\HAM10000_images_p...</td>\n",
       "      <td>Benign keratosis-like lesions</td>\n",
       "      <td>2</td>\n",
       "    </tr>\n",
       "  </tbody>\n",
       "</table>\n",
       "</div>"
      ],
      "text/plain": [
       "     lesion_id      image_id   dx dx_type   age   sex localization  \\\n",
       "0  HAM_0000118  ISIC_0027419  bkl   histo  80.0  male        scalp   \n",
       "1  HAM_0000118  ISIC_0025030  bkl   histo  80.0  male        scalp   \n",
       "2  HAM_0002730  ISIC_0026769  bkl   histo  80.0  male        scalp   \n",
       "3  HAM_0002730  ISIC_0025661  bkl   histo  80.0  male        scalp   \n",
       "4  HAM_0001466  ISIC_0031633  bkl   histo  75.0  male          ear   \n",
       "\n",
       "                                                path  \\\n",
       "0  .\\skin-cancer-mnist-ham10000\\HAM10000_images_p...   \n",
       "1  .\\skin-cancer-mnist-ham10000\\HAM10000_images_p...   \n",
       "2  .\\skin-cancer-mnist-ham10000\\HAM10000_images_p...   \n",
       "3  .\\skin-cancer-mnist-ham10000\\HAM10000_images_p...   \n",
       "4  .\\skin-cancer-mnist-ham10000\\HAM10000_images_p...   \n",
       "\n",
       "                             type  type-id  \n",
       "0  Benign keratosis-like lesions         2  \n",
       "1  Benign keratosis-like lesions         2  \n",
       "2  Benign keratosis-like lesions         2  \n",
       "3  Benign keratosis-like lesions         2  \n",
       "4  Benign keratosis-like lesions         2  "
      ]
     },
     "execution_count": 5,
     "metadata": {},
     "output_type": "execute_result"
    }
   ],
   "source": [
    "# Show us the New DataFrame\n",
    "skinCancerDataFrame.head()"
   ]
  },
  {
   "cell_type": "markdown",
   "metadata": {},
   "source": [
    "# Step 7 : Visualizing the Data"
   ]
  },
  {
   "cell_type": "markdown",
   "metadata": {},
   "source": [
    "*Visualize some data and explore what is **underneath the data.***"
   ]
  },
  {
   "cell_type": "markdown",
   "metadata": {},
   "source": [
    "**Question: Where in the body does the cancer occur the most?**\n",
    "\n",
    "*To answer this question, let's visualize the localization data*"
   ]
  },
  {
   "cell_type": "code",
   "execution_count": 6,
   "metadata": {},
   "outputs": [
    {
     "data": {
      "text/plain": [
       "<matplotlib.axes._subplots.AxesSubplot at 0x229591d7a58>"
      ]
     },
     "execution_count": 6,
     "metadata": {},
     "output_type": "execute_result"
    },
    {
     "data": {
      "image/png": "[encoded data removed]",
      "text/plain": [
       "<Figure size 432x288 with 1 Axes>"
      ]
     },
     "metadata": {
      "needs_background": "light"
     },
     "output_type": "display_data"
    }
   ],
   "source": [
    "# Plot the graph \n",
    "skinCancerDataFrame['localization'].value_counts().plot( kind='bar' )"
   ]
  },
  {
   "cell_type": "markdown",
   "metadata": {},
   "source": [
    "The conclusion we can make is that the skin cancer occurs the most at back and lower extremity of human body."
   ]
  },
  {
   "cell_type": "markdown",
   "metadata": {},
   "source": [
    "**Question: Which type of lesion occurs the most?**\n",
    "\n",
    "*To answer this question, let's visualize the type data*"
   ]
  },
  {
   "cell_type": "code",
   "execution_count": 7,
   "metadata": {},
   "outputs": [
    {
     "data": {
      "text/plain": [
       "<matplotlib.axes._subplots.AxesSubplot at 0x2295986ef28>"
      ]
     },
     "execution_count": 7,
     "metadata": {},
     "output_type": "execute_result"
    },
    {
     "data": {
      "image/png": "[encoded data removed]",
      "text/plain": [
       "<Figure size 720x432 with 1 Axes>"
      ]
     },
     "metadata": {
      "needs_background": "light"
     },
     "output_type": "display_data"
    }
   ],
   "source": [
    "figure, axis1 = plt.subplots(1, 1, figsize= (10, 6))\n",
    "skinCancerDataFrame['type'].value_counts().plot( kind = 'bar', ax = axis1)"
   ]
  },
  {
   "cell_type": "markdown",
   "metadata": {},
   "source": [
    "From the graph, we can easily conclude that \"Melanocytic Nevi\" occurs way more than other lesion types."
   ]
  },
  {
   "cell_type": "markdown",
   "metadata": {},
   "source": [
    "# Step 8 : Loading and Resizing Images"
   ]
  },
  {
   "cell_type": "markdown",
   "metadata": {},
   "source": [
    "First, load images to the table.\n",
    "What is an image?\n",
    "Image is basically a matrix of numbers.\n",
    "So we can easily add the matrix to the table."
   ]
  },
  {
   "cell_type": "code",
   "execution_count": 8,
   "metadata": {},
   "outputs": [],
   "source": [
    "# Create New Column In the Table\n",
    "\n",
    "# Read Image First based on the path information\n",
    "# Resize the Image\n",
    "# and Add the image to the Table as Matrix\n",
    "ORIGINAL_WIDTH = 600  # pixels\n",
    "ORIGINAL_HEIGHT = 450 # pixels\n",
    "REDUCER = 6\n",
    "# Resized images will be 100 x 75\n",
    "\n",
    "# Why need Image Resize?\n",
    "# The computational power of the computer allows only this. It cannot compute 600 x 450 images.\n",
    "\n",
    "# these new sizes of the image will be used throughout the code\n",
    "NEW_WIDTH = int(ORIGINAL_WIDTH / REDUCER)\n",
    "NEW_HEIGHT = int(ORIGINAL_HEIGHT / REDUCER)\n",
    "\n",
    "skinCancerDataFrame[\"image\"] = skinCancerDataFrame[\"path\"].map(lambda image: np.asarray(Image.open(image).resize((NEW_WIDTH, NEW_HEIGHT))))\n",
    "# Go and read the image, convert it to a matrix of pixel values and store it as a column in the table.\n",
    "\n",
    "# Since there are 3 colors, R,G,B\n",
    "# Size of the matrix will be NEW_WIDTH, NEW_HEIGHT, 3\n",
    "# So size of the matrix will be 100 x 75 x 3  = (300,225,3)"
   ]
  },
  {
   "cell_type": "code",
   "execution_count": 9,
   "metadata": {},
   "outputs": [
    {
     "data": {
      "text/html": [
       "<div>\n",
       "<style scoped>\n",
       "    .dataframe tbody tr th:only-of-type {\n",
       "        vertical-align: middle;\n",
       "    }\n",
       "\n",
       "    .dataframe tbody tr th {\n",
       "        vertical-align: top;\n",
       "    }\n",
       "\n",
       "    .dataframe thead th {\n",
       "        text-align: right;\n",
       "    }\n",
       "</style>\n",
       "<table border=\"1\" class=\"dataframe\">\n",
       "  <thead>\n",
       "    <tr style=\"text-align: right;\">\n",
       "      <th></th>\n",
       "      <th>lesion_id</th>\n",
       "      <th>image_id</th>\n",
       "      <th>dx</th>\n",
       "      <th>dx_type</th>\n",
       "      <th>age</th>\n",
       "      <th>sex</th>\n",
       "      <th>localization</th>\n",
       "      <th>path</th>\n",
       "      <th>type</th>\n",
       "      <th>type-id</th>\n",
       "      <th>image</th>\n",
       "    </tr>\n",
       "  </thead>\n",
       "  <tbody>\n",
       "    <tr>\n",
       "      <td>0</td>\n",
       "      <td>HAM_0000118</td>\n",
       "      <td>ISIC_0027419</td>\n",
       "      <td>bkl</td>\n",
       "      <td>histo</td>\n",
       "      <td>80.0</td>\n",
       "      <td>male</td>\n",
       "      <td>scalp</td>\n",
       "      <td>.\\skin-cancer-mnist-ham10000\\HAM10000_images_p...</td>\n",
       "      <td>Benign keratosis-like lesions</td>\n",
       "      <td>2</td>\n",
       "      <td>[[[191, 153, 194], [191, 154, 198], [189, 152,...</td>\n",
       "    </tr>\n",
       "    <tr>\n",
       "      <td>1</td>\n",
       "      <td>HAM_0000118</td>\n",
       "      <td>ISIC_0025030</td>\n",
       "      <td>bkl</td>\n",
       "      <td>histo</td>\n",
       "      <td>80.0</td>\n",
       "      <td>male</td>\n",
       "      <td>scalp</td>\n",
       "      <td>.\\skin-cancer-mnist-ham10000\\HAM10000_images_p...</td>\n",
       "      <td>Benign keratosis-like lesions</td>\n",
       "      <td>2</td>\n",
       "      <td>[[[23, 13, 22], [25, 15, 24], [24, 16, 31], [3...</td>\n",
       "    </tr>\n",
       "    <tr>\n",
       "      <td>2</td>\n",
       "      <td>HAM_0002730</td>\n",
       "      <td>ISIC_0026769</td>\n",
       "      <td>bkl</td>\n",
       "      <td>histo</td>\n",
       "      <td>80.0</td>\n",
       "      <td>male</td>\n",
       "      <td>scalp</td>\n",
       "      <td>.\\skin-cancer-mnist-ham10000\\HAM10000_images_p...</td>\n",
       "      <td>Benign keratosis-like lesions</td>\n",
       "      <td>2</td>\n",
       "      <td>[[[186, 126, 136], [190, 136, 149], [195, 137,...</td>\n",
       "    </tr>\n",
       "    <tr>\n",
       "      <td>3</td>\n",
       "      <td>HAM_0002730</td>\n",
       "      <td>ISIC_0025661</td>\n",
       "      <td>bkl</td>\n",
       "      <td>histo</td>\n",
       "      <td>80.0</td>\n",
       "      <td>male</td>\n",
       "      <td>scalp</td>\n",
       "      <td>.\\skin-cancer-mnist-ham10000\\HAM10000_images_p...</td>\n",
       "      <td>Benign keratosis-like lesions</td>\n",
       "      <td>2</td>\n",
       "      <td>[[[24, 11, 18], [27, 13, 26], [39, 23, 33], [6...</td>\n",
       "    </tr>\n",
       "    <tr>\n",
       "      <td>4</td>\n",
       "      <td>HAM_0001466</td>\n",
       "      <td>ISIC_0031633</td>\n",
       "      <td>bkl</td>\n",
       "      <td>histo</td>\n",
       "      <td>75.0</td>\n",
       "      <td>male</td>\n",
       "      <td>ear</td>\n",
       "      <td>.\\skin-cancer-mnist-ham10000\\HAM10000_images_p...</td>\n",
       "      <td>Benign keratosis-like lesions</td>\n",
       "      <td>2</td>\n",
       "      <td>[[[136, 91, 114], [148, 104, 127], [161, 117, ...</td>\n",
       "    </tr>\n",
       "  </tbody>\n",
       "</table>\n",
       "</div>"
      ],
      "text/plain": [
       "     lesion_id      image_id   dx dx_type   age   sex localization  \\\n",
       "0  HAM_0000118  ISIC_0027419  bkl   histo  80.0  male        scalp   \n",
       "1  HAM_0000118  ISIC_0025030  bkl   histo  80.0  male        scalp   \n",
       "2  HAM_0002730  ISIC_0026769  bkl   histo  80.0  male        scalp   \n",
       "3  HAM_0002730  ISIC_0025661  bkl   histo  80.0  male        scalp   \n",
       "4  HAM_0001466  ISIC_0031633  bkl   histo  75.0  male          ear   \n",
       "\n",
       "                                                path  \\\n",
       "0  .\\skin-cancer-mnist-ham10000\\HAM10000_images_p...   \n",
       "1  .\\skin-cancer-mnist-ham10000\\HAM10000_images_p...   \n",
       "2  .\\skin-cancer-mnist-ham10000\\HAM10000_images_p...   \n",
       "3  .\\skin-cancer-mnist-ham10000\\HAM10000_images_p...   \n",
       "4  .\\skin-cancer-mnist-ham10000\\HAM10000_images_p...   \n",
       "\n",
       "                             type  type-id  \\\n",
       "0  Benign keratosis-like lesions         2   \n",
       "1  Benign keratosis-like lesions         2   \n",
       "2  Benign keratosis-like lesions         2   \n",
       "3  Benign keratosis-like lesions         2   \n",
       "4  Benign keratosis-like lesions         2   \n",
       "\n",
       "                                               image  \n",
       "0  [[[191, 153, 194], [191, 154, 198], [189, 152,...  \n",
       "1  [[[23, 13, 22], [25, 15, 24], [24, 16, 31], [3...  \n",
       "2  [[[186, 126, 136], [190, 136, 149], [195, 137,...  \n",
       "3  [[[24, 11, 18], [27, 13, 26], [39, 23, 33], [6...  \n",
       "4  [[[136, 91, 114], [148, 104, 127], [161, 117, ...  "
      ]
     },
     "execution_count": 9,
     "metadata": {},
     "output_type": "execute_result"
    }
   ],
   "source": [
    "# Let's see whether we have added the images as matrix to the table or not\n",
    "\n",
    "skinCancerDataFrame.head()"
   ]
  },
  {
   "cell_type": "code",
   "execution_count": 10,
   "metadata": {},
   "outputs": [
    {
     "data": {
      "text/plain": [
       "0        [[[191, 153, 194], [191, 154, 198], [189, 152,...\n",
       "1        [[[23, 13, 22], [25, 15, 24], [24, 16, 31], [3...\n",
       "2        [[[186, 126, 136], [190, 136, 149], [195, 137,...\n",
       "3        [[[24, 11, 18], [27, 13, 26], [39, 23, 33], [6...\n",
       "4        [[[136, 91, 114], [148, 104, 127], [161, 117, ...\n",
       "                               ...                        \n",
       "10010    [[[172, 155, 165], [170, 148, 160], [153, 139,...\n",
       "10011    [[[6, 6, 4], [7, 8, 3], [7, 9, 8], [9, 8, 6], ...\n",
       "10012    [[[114, 106, 104], [127, 121, 121], [140, 128,...\n",
       "10013    [[[159, 125, 149], [158, 125, 142], [152, 107,...\n",
       "10014    [[[180, 152, 141], [174, 142, 131], [179, 147,...\n",
       "Name: image, Length: 10015, dtype: object"
      ]
     },
     "execution_count": 10,
     "metadata": {},
     "output_type": "execute_result"
    }
   ],
   "source": [
    "# Let's just see Image Column\n",
    "\n",
    "skinCancerDataFrame[\"image\"]"
   ]
  },
  {
   "cell_type": "markdown",
   "metadata": {},
   "source": [
    "**As clearly seen, the image is added as a matrix.\n",
    "All color information is kept. R,G,B**"
   ]
  },
  {
   "cell_type": "markdown",
   "metadata": {},
   "source": [
    "# Step 9 : Train and Test Split"
   ]
  },
  {
   "cell_type": "markdown",
   "metadata": {},
   "source": [
    "**We need test data to test our model later on in terms of ACCURACY.\n",
    "In order to do that, we need to randomly split our data.**\n",
    "This is called TRAIN - TEST SPLIT in deep learning."
   ]
  },
  {
   "cell_type": "code",
   "execution_count": 11,
   "metadata": {},
   "outputs": [],
   "source": [
    "# All the features will be here. We want to lose type of the lesion. Because we are going to predict it.\n",
    "features = skinCancerDataFrame.drop(columns=[\"type-id\"], axis = 1)\n",
    "# And we need to keep types of the lesions\n",
    "# while testing, we will need it to check whether the model has predicted right or wrong\n",
    "target = skinCancerDataFrame[\"type-id\"]\n",
    "\n"
   ]
  },
  {
   "cell_type": "code",
   "execution_count": 12,
   "metadata": {},
   "outputs": [],
   "source": [
    "# TRAIN - TEST SPLIT\n",
    "# Ratio: 90 - 10\n",
    "# 90% of the data is for TRAINING\n",
    "# 10% of the data is for TESTING\n",
    "RATIO = 0.10\n",
    "RANDOM_KEY = 101\n",
    "\n",
    "x_train_raw, x_test_raw, y_train_raw, y_test_raw = train_test_split(features, \n",
    "                                                            target, \n",
    "                                                            test_size = RATIO, \n",
    "                                                            random_state = RANDOM_KEY)\n",
    "\n",
    "# Given you Features and Target and the ratio of the split\n",
    "# SPLIT THE DATA RANDOMLY **\n",
    "\n"
   ]
  },
  {
   "cell_type": "markdown",
   "metadata": {},
   "source": [
    "# Step 10 : Normalization"
   ]
  },
  {
   "cell_type": "markdown",
   "metadata": {},
   "source": [
    "## What is Normalization?\n",
    "In a typical neural network, trillions of mathematicals operations are done. From derivatives to multiplications. \n",
    "If we use values between 0-255, it would slow the neural network down. So it is best to rearrange the values between 0-1. This is called NORMALIZATION\n",
    "\n",
    "There are different methods to normalize the pixel values.\n",
    "In other words, THE DATA.\n",
    "\n",
    "I have chosen to use DIVIDER METHOD.\n",
    "One pixel can be maximum 255 and minimum 0. So dividing the pixel by 255,\n",
    "will make the pixel value between 0 and 1.\n",
    "\n"
   ]
  },
  {
   "cell_type": "code",
   "execution_count": 13,
   "metadata": {},
   "outputs": [],
   "source": [
    "\n",
    "MAXIMUM_PIXEL_VALUE = 255\n",
    "\n",
    "x_train = (np.asarray(x_train_raw['image'].tolist())) / MAXIMUM_PIXEL_VALUE\n",
    "# Convert THE IMAGE PIXEL DATA TO a numpy array and then divide all pixels to 255.\n",
    "\n",
    "x_test = (np.asarray(x_test_raw['image'].tolist())) / MAXIMUM_PIXEL_VALUE\n",
    "\n",
    "# Now we have TRAIN VALUES -> x_train\n",
    "#        and  TEST VALUES  -> x_test\n",
    "\n",
    "# By giving the test image values to the algorithm, we can easily test the neural network later on.\n",
    "\n"
   ]
  },
  {
   "cell_type": "markdown",
   "metadata": {},
   "source": [
    "Now normalization operation is completed. \n",
    "All the pixel values locate between 0 and 1.\n"
   ]
  },
  {
   "cell_type": "markdown",
   "metadata": {},
   "source": [
    "# Step 11 : Label Encoding"
   ]
  },
  {
   "cell_type": "markdown",
   "metadata": {},
   "source": [
    "Labels are strings. But computers work with numbers. Therefore we convert STRING LABELS TO NUMBERS.\n",
    "Keras does this in a similar manner like BYTE-ARRAY.\n",
    "For label 2, it uses [0,0,1,0,0,0,0,0]\n"
   ]
  },
  {
   "cell_type": "code",
   "execution_count": 14,
   "metadata": {},
   "outputs": [],
   "source": [
    "\n",
    "NUMBER_OF_LESION_TYPES = 7\n",
    "\n",
    "# Apply one-hot encoding on the labels\n",
    "y_train = to_categorical(y_train_raw, num_classes = NUMBER_OF_LESION_TYPES)\n",
    "y_test = to_categorical(y_test_raw, num_classes = NUMBER_OF_LESION_TYPES)\n",
    "\n",
    "# Now label encoding operation has been applied to test and train control vectors.\n",
    "# y_train -> types of the images of train data\n",
    "# y_test -> types of the images of test data \n",
    "\n"
   ]
  },
  {
   "cell_type": "markdown",
   "metadata": {},
   "source": [
    "# Step 12 : Train and Validation Split"
   ]
  },
  {
   "cell_type": "markdown",
   "metadata": {},
   "source": [
    "## Why need to split train data one more time?\n",
    "The validation set is used to evaluate a given model, but this is for frequent evaluation. We use this data to fine-tune the model hyperparameters.\n",
    "\n",
    "\n",
    "### Validation does not mean TESTING. Validation is IMMEDIATE TESTING, just to tune the neural network immediately."
   ]
  },
  {
   "cell_type": "code",
   "execution_count": 15,
   "metadata": {},
   "outputs": [],
   "source": [
    "\n",
    "SPLIT_RATIO = 0.1 \n",
    "# 10% of the train data better be split to SPLIT AND VALIDATION DATA\n",
    "\n",
    "RANDOMNESS_KEY = 2 \n",
    "\n",
    "x_train, x_validate, y_train, y_validate = train_test_split(x_train, \n",
    "                                                            y_train, \n",
    "                                                            test_size = SPLIT_RATIO, \n",
    "                                                            random_state = RANDOMNESS_KEY)\n",
    "\n",
    "# x_train -> The Images to train the neural network\n",
    "# x_validate -> The Images to Immediately Check and Tune The Neural Network \n",
    "#            -> i.e. Validation Images\n",
    "# y_train -> types of the images to train the NN\n",
    "# y_validate -> types of the images to validate the NN\n"
   ]
  },
  {
   "cell_type": "markdown",
   "metadata": {},
   "source": [
    "# Step 13 : Reshape Train, Test and Validation Data"
   ]
  },
  {
   "cell_type": "markdown",
   "metadata": {},
   "source": [
    "In order the model to work, we have to reshape the image.\n",
    "In other words, TELL KERAS THE SIZE OF THE IMAGES."
   ]
  },
  {
   "cell_type": "code",
   "execution_count": 16,
   "metadata": {},
   "outputs": [],
   "source": [
    "# Reshape image/TELL KERAS SIZE OF THE IMAGE in 3 dimensions (height = 75 px, width = 100 px , canal = 3 RGB)\n",
    "\n",
    "x_train = x_train.reshape(x_train.shape[0], *(NEW_HEIGHT, NEW_WIDTH, 3))\n",
    "\n",
    "x_test = x_test.reshape(x_test.shape[0], *(NEW_HEIGHT, NEW_WIDTH, 3))\n",
    "\n",
    "x_validate = x_validate.reshape(x_validate.shape[0], *(NEW_HEIGHT, NEW_WIDTH, 3))\n",
    "\n",
    "# Test, Train and Validation Images RESHAPED."
   ]
  },
  {
   "cell_type": "markdown",
   "metadata": {},
   "source": [
    "# Step 14 : Building the Model"
   ]
  },
  {
   "cell_type": "markdown",
   "metadata": {},
   "source": [
    "The Main Architecture here is \n",
    "### Convolutional Neural Networks"
   ]
  },
  {
   "cell_type": "markdown",
   "metadata": {},
   "source": [
    "![](https://missinglink.ai/wp-content/uploads/2019/08/LeNet-5-1998.png)"
   ]
  },
  {
   "cell_type": "markdown",
   "metadata": {},
   "source": [
    "### The Convolutional Neural Network Architecture \n",
    "\n",
    "##### Convolutional Layer\n",
    "|\n",
    "#### Convolutional Layer\n",
    "|\n",
    "#### Pooling\n",
    "|\n",
    "#### Droput\n",
    "|\n",
    "#### Convolutional Layer\n",
    "|\n",
    "#### Convolutional Layer\n",
    "|\n",
    "#### Pooling\n",
    "|\n",
    "#### Droput\n",
    "|    \n",
    "#### Flatten\n",
    "|    \n",
    "#### Dense (Hidden Layer)\n",
    "|\n",
    "#### Droput\n",
    "|\n",
    "#### Output Layer\n",
    "\n"
   ]
  },
  {
   "cell_type": "code",
   "execution_count": 17,
   "metadata": {},
   "outputs": [
    {
     "name": "stdout",
     "output_type": "stream",
     "text": [
      "WARNING:tensorflow:From C:\\Users\\user\\.conda\\envs\\tfp3.7\\lib\\site-packages\\tensorflow\\python\\framework\\op_def_library.py:263: colocate_with (from tensorflow.python.framework.ops) is deprecated and will be removed in a future version.\n",
      "Instructions for updating:\n",
      "Colocations handled automatically by placer.\n",
      "WARNING:tensorflow:From C:\\Users\\user\\.conda\\envs\\tfp3.7\\lib\\site-packages\\keras\\backend\\tensorflow_backend.py:3445: calling dropout (from tensorflow.python.ops.nn_ops) with keep_prob is deprecated and will be removed in a future version.\n",
      "Instructions for updating:\n",
      "Please use `rate` instead of `keep_prob`. Rate should be set to `rate = 1 - keep_prob`.\n",
      "_________________________________________________________________\n",
      "Layer (type)                 Output Shape              Param #   \n",
      "=================================================================\n",
      "conv2d_1 (Conv2D)            (None, 75, 100, 32)       896       \n",
      "_________________________________________________________________\n",
      "conv2d_2 (Conv2D)            (None, 75, 100, 32)       9248      \n",
      "_________________________________________________________________\n",
      "max_pooling2d_1 (MaxPooling2 (None, 37, 50, 32)        0         \n",
      "_________________________________________________________________\n",
      "dropout_1 (Dropout)          (None, 37, 50, 32)        0         \n",
      "_________________________________________________________________\n",
      "conv2d_3 (Conv2D)            (None, 37, 50, 64)        18496     \n",
      "_________________________________________________________________\n",
      "conv2d_4 (Conv2D)            (None, 37, 50, 64)        36928     \n",
      "_________________________________________________________________\n",
      "max_pooling2d_2 (MaxPooling2 (None, 18, 25, 64)        0         \n",
      "_________________________________________________________________\n",
      "dropout_2 (Dropout)          (None, 18, 25, 64)        0         \n",
      "_________________________________________________________________\n",
      "flatten_1 (Flatten)          (None, 28800)             0         \n",
      "_________________________________________________________________\n",
      "dense_1 (Dense)              (None, 128)               3686528   \n",
      "_________________________________________________________________\n",
      "dropout_3 (Dropout)          (None, 128)               0         \n",
      "_________________________________________________________________\n",
      "dense_2 (Dense)              (None, 7)                 903       \n",
      "=================================================================\n",
      "Total params: 3,752,999\n",
      "Trainable params: 3,752,999\n",
      "Non-trainable params: 0\n",
      "_________________________________________________________________\n"
     ]
    }
   ],
   "source": [
    "\n",
    "shapeofInput = (NEW_HEIGHT, NEW_WIDTH, 3)  # Shape of the images, we have resized, remember?\n",
    "\n",
    "NUMBER_OF_TYPES  = 7\n",
    "\n",
    "\n",
    "model = Sequential() # Create a CNN model\n",
    "# This is called SEQUANTIAL MODEL\n",
    "\n",
    "# Convolution Layer  (Feature Detectors)\n",
    "model.add(Conv2D(32, # Number of filtes\n",
    "                 kernel_size = (3, 3), # Filter matrix dimension\n",
    "                 activation = 'relu', # Break up linearlity after filtering\n",
    "                 padding = 'Same', # Padding operation\n",
    "                 input_shape = shapeofInput))\n",
    "\n",
    "model.add(Conv2D(32, \n",
    "                 kernel_size = (3, 3), \n",
    "                 activation = 'relu', \n",
    "                 padding = 'Same',))\n",
    "\n",
    "# Pooling Layer\n",
    "model.add(MaxPool2D(pool_size = (2, 2))) # Max pooling is just good enough.\n",
    "# Size of the image is reduced here.\n",
    "# DOWN-SAMPLING\n",
    "\n",
    "# DROPOUT LAYER\n",
    "model.add(Dropout(0.25))\n",
    "\n",
    "# Convolutional Layer -> Convolutional Layer -> Pooling Layer -> Droput\n",
    "model.add(Conv2D(64, (3, 3), activation = 'relu', padding = 'Same'))\n",
    "model.add(Conv2D(64, (3, 3), activation = 'relu', padding = 'Same'))\n",
    "model.add(MaxPool2D(pool_size = (2, 2)))\n",
    "model.add(Dropout(0.40))\n",
    "\n",
    "\n",
    "# FLATTEN Layer\n",
    "model.add(Flatten())\n",
    "\n",
    "# The Hidden Layer\n",
    "# 128 Neurons \n",
    "# ReLU is for breaking linearity.\n",
    "model.add(Dense(128, activation = 'relu')) \n",
    "\n",
    "model.add(Dropout(0.5)) # DROPOUT & DROPUT RATE\n",
    "\n",
    "# The Output Layer\n",
    "# Number of types of lesions must be given\n",
    "model.add(Dense(NUMBER_OF_TYPES, activation = 'softmax'))\n",
    "# Why use Softmax? Because there are more than 2 outputs. There are 7 outputs.\n",
    "\n",
    "model.summary()"
   ]
  },
  {
   "cell_type": "markdown",
   "metadata": {},
   "source": [
    "# Step 15: Adam Optimization and Annealer"
   ]
  },
  {
   "cell_type": "markdown",
   "metadata": {},
   "source": [
    "In order to train even a simple neural network, the computer must perform trillions of operations.\n",
    "That is why we need OPTIMIZATIONS.\n",
    "\n",
    "Adaptive Momentum Optimization (ADAM Optimization) is a technique that is used to optimize gradient descent procedure.\n",
    "It updates weights of the networks in a different manner than classical stochastic gradient descent."
   ]
  },
  {
   "cell_type": "code",
   "execution_count": 18,
   "metadata": {},
   "outputs": [],
   "source": [
    "# Define and Tune the optimizer\n",
    "\n",
    "theAdamOptimizer = Adam( lr = 0.001, # Learning rate = how fast or slow to update the weights\n",
    "                 beta_1 = 0.9, \n",
    "                 beta_2 = 0.999, \n",
    "                 epsilon = None, \n",
    "                 decay = 0.0, \n",
    "                 amsgrad = False)"
   ]
  },
  {
   "cell_type": "code",
   "execution_count": 19,
   "metadata": {},
   "outputs": [],
   "source": [
    "# Compile the model\n",
    "model.compile(optimizer = theAdamOptimizer , \n",
    "              loss = \"categorical_crossentropy\", \n",
    "              metrics=[\"accuracy\"]) # Evaluation will be in terms of Accuracy"
   ]
  },
  {
   "cell_type": "markdown",
   "metadata": {},
   "source": [
    "### Why need an annealer?\n",
    "We do not want the learning rate to be constant throught all the iterations.\n",
    "It should adapt.\n",
    "\n",
    "![Learning Rate Annealer](https://forums.fast.ai/uploads/default/original/2X/f/f558e9d786d8e95aeb465ce66d006ff17ec829a5.png)"
   ]
  },
  {
   "cell_type": "code",
   "execution_count": 20,
   "metadata": {},
   "outputs": [],
   "source": [
    "# Set a learning rate annealer\n",
    "learning_rate_reduction = ReduceLROnPlateau(monitor='val_acc', \n",
    "                                            patience = 3, \n",
    "                                            verbose = 1, \n",
    "                                            factor = 0.5, \n",
    "                                            min_lr = 0.00001)"
   ]
  },
  {
   "cell_type": "markdown",
   "metadata": {},
   "source": [
    "# Step 16 : Data Augmentation"
   ]
  },
  {
   "cell_type": "markdown",
   "metadata": {},
   "source": [
    "### What If the NN Memorizes All the Images?\n",
    "\n",
    "In order to avoid OVERFITTING, i.e. MEMORIZATION OF THE IMAGE, we need to make some adjustments in other words augmentations in the images. \n",
    "\n",
    "#### What kind of augmentations?\n",
    "ROTATIONS, FLIPS, COLOR BALANCE, ZOOM INS, ZOOM OUTS etc.\n"
   ]
  },
  {
   "cell_type": "markdown",
   "metadata": {},
   "source": [
    "![Data Augmentation](https://preview.ibb.co/nMxXUp/augment.jpg)"
   ]
  },
  {
   "cell_type": "code",
   "execution_count": 21,
   "metadata": {},
   "outputs": [],
   "source": [
    "# We need to prevent OVERFITTING.\n",
    "# i.e. The Neural Network better NOT MEMORIZE THE DATA.\n",
    "# SO WE ARE AUGMENTING THE DAT\n",
    "# THIS MEANS SHOWING ALL THE VARIATIONS OF IMAGES, ROTATIONS, ZOOM INS, ZOOM OUTS etc.\n",
    "\n",
    "datagen = ImageDataGenerator(\n",
    "        featurewise_center = False,  # set input mean to 0 over the dataset\n",
    "        samplewise_center = False,  # set each sample mean to 0\n",
    "        featurewise_std_normalization = False,  # divide inputs by std of the dataset\n",
    "        samplewise_std_normalization = False,  # divide each input by its std\n",
    "        zca_whitening = False,  # apply ZCA whitening\n",
    "        rotation_range = 10,  # randomly rotate images in the range (degrees, 0 to 180)\n",
    "        zoom_range = 0.1, # Randomly zoom image \n",
    "        width_shift_range = 0.1,  # randomly shift images horizontally (fraction of total width)\n",
    "        height_shift_range = 0.1,  # randomly shift images vertically (fraction of total height)\n",
    "        horizontal_flip = False,  # randomly flip images\n",
    "        vertical_flip = False)  # randomly flip images\n",
    "\n",
    "datagen.fit(x_train) # Add newly generated images to x_train"
   ]
  },
  {
   "cell_type": "markdown",
   "metadata": {},
   "source": [
    "# Step 17 : Training the Model"
   ]
  },
  {
   "cell_type": "markdown",
   "metadata": {},
   "source": [
    "Till now, we have not trained the neural network. \n",
    "Everything is ready.\n",
    "\n",
    "Training means FITTING in AI Terminology."
   ]
  },
  {
   "cell_type": "code",
   "execution_count": 22,
   "metadata": {},
   "outputs": [],
   "source": [
    "# Configure Tenserflow for GPU\n",
    "\n",
    "config = tf.ConfigProto()\n",
    "config.gpu_options.per_process_gpu_memory_fraction = 0.7  \n",
    "keras.backend.tensorflow_backend.set_session(tf.Session(config=config))\n",
    "\n",
    "config.gpu_options.allow_growth = True\n",
    "sess = tf.Session(config=config)\n",
    "\n",
    "init_op = tf.global_variables_initializer()\n",
    "\n",
    "sess = tf.Session()\n",
    "sess.run(init_op)\n",
    "\n",
    "# These lines for tensorflow configurations."
   ]
  },
  {
   "cell_type": "code",
   "execution_count": 23,
   "metadata": {},
   "outputs": [
    {
     "name": "stdout",
     "output_type": "stream",
     "text": [
      "WARNING:tensorflow:From C:\\Users\\user\\.conda\\envs\\tfp3.7\\lib\\site-packages\\tensorflow\\python\\ops\\math_ops.py:3066: to_int32 (from tensorflow.python.ops.math_ops) is deprecated and will be removed in a future version.\n",
      "Instructions for updating:\n",
      "Use tf.cast instead.\n",
      "Epoch 1/80\n",
      "811/811 [==============================] - 19s 23ms/step - loss: 1.0798 - acc: 0.6674 - val_loss: 0.9921 - val_acc: 0.6585\n",
      "Epoch 2/80\n",
      "811/811 [==============================] - 16s 20ms/step - loss: 1.0011 - acc: 0.6686 - val_loss: 0.9727 - val_acc: 0.6585\n",
      "Epoch 3/80\n",
      "811/811 [==============================] - 12s 14ms/step - loss: 0.9741 - acc: 0.6695 - val_loss: 0.9401 - val_acc: 0.6585\n",
      "Epoch 4/80\n",
      "811/811 [==============================] - 12s 15ms/step - loss: 0.9372 - acc: 0.6691 - val_loss: 0.9329 - val_acc: 0.6596\n",
      "Epoch 5/80\n",
      "811/811 [==============================] - 12s 15ms/step - loss: 0.9108 - acc: 0.6716 - val_loss: 0.9292 - val_acc: 0.6785\n",
      "Epoch 6/80\n",
      "811/811 [==============================] - 12s 15ms/step - loss: 0.8936 - acc: 0.6731 - val_loss: 0.8451 - val_acc: 0.6829\n",
      "Epoch 7/80\n",
      "811/811 [==============================] - 12s 14ms/step - loss: 0.8733 - acc: 0.6824 - val_loss: 0.8382 - val_acc: 0.6774\n",
      "Epoch 8/80\n",
      "811/811 [==============================] - 11s 14ms/step - loss: 0.8656 - acc: 0.6852 - val_loss: 0.7976 - val_acc: 0.6929\n",
      "Epoch 9/80\n",
      "811/811 [==============================] - 12s 15ms/step - loss: 0.8600 - acc: 0.6840 - val_loss: 0.8949 - val_acc: 0.6763\n",
      "Epoch 10/80\n",
      "811/811 [==============================] - 12s 15ms/step - loss: 0.8232 - acc: 0.6925 - val_loss: 0.7846 - val_acc: 0.7029\n",
      "Epoch 11/80\n",
      "811/811 [==============================] - 12s 14ms/step - loss: 0.8228 - acc: 0.6959 - val_loss: 0.7827 - val_acc: 0.6984\n",
      "Epoch 12/80\n",
      "811/811 [==============================] - 11s 14ms/step - loss: 0.8111 - acc: 0.6963 - val_loss: 0.7342 - val_acc: 0.7062\n",
      "Epoch 13/80\n",
      "811/811 [==============================] - 11s 14ms/step - loss: 0.7983 - acc: 0.7035 - val_loss: 0.7383 - val_acc: 0.7118\n",
      "Epoch 14/80\n",
      "811/811 [==============================] - 12s 15ms/step - loss: 0.7866 - acc: 0.7069 - val_loss: 0.7880 - val_acc: 0.7007\n",
      "Epoch 15/80\n",
      "811/811 [==============================] - 12s 15ms/step - loss: 0.7862 - acc: 0.7044 - val_loss: 0.7257 - val_acc: 0.7173\n",
      "Epoch 16/80\n",
      "811/811 [==============================] - 12s 15ms/step - loss: 0.7769 - acc: 0.7107 - val_loss: 0.7638 - val_acc: 0.7162\n",
      "Epoch 17/80\n",
      "811/811 [==============================] - 11s 14ms/step - loss: 0.7726 - acc: 0.7089 - val_loss: 0.7184 - val_acc: 0.7273\n",
      "Epoch 18/80\n",
      "811/811 [==============================] - 12s 14ms/step - loss: 0.7655 - acc: 0.7126 - val_loss: 0.7599 - val_acc: 0.7239\n",
      "Epoch 19/80\n",
      "811/811 [==============================] - 12s 14ms/step - loss: 0.7591 - acc: 0.7142 - val_loss: 0.7181 - val_acc: 0.7262\n",
      "Epoch 20/80\n",
      "811/811 [==============================] - 12s 15ms/step - loss: 0.7709 - acc: 0.7116 - val_loss: 0.7608 - val_acc: 0.7173\n",
      "\n",
      "Epoch 00020: ReduceLROnPlateau reducing learning rate to 0.0005000000237487257.\n",
      "Epoch 21/80\n",
      "811/811 [==============================] - 12s 15ms/step - loss: 0.7219 - acc: 0.7289 - val_loss: 0.6962 - val_acc: 0.7262\n",
      "Epoch 22/80\n",
      "811/811 [==============================] - 12s 14ms/step - loss: 0.7060 - acc: 0.7349 - val_loss: 0.6768 - val_acc: 0.7384\n",
      "Epoch 23/80\n",
      "811/811 [==============================] - 11s 14ms/step - loss: 0.7102 - acc: 0.7284 - val_loss: 0.6988 - val_acc: 0.7439\n",
      "Epoch 24/80\n",
      "811/811 [==============================] - 12s 14ms/step - loss: 0.7057 - acc: 0.7360 - val_loss: 0.6851 - val_acc: 0.7428\n",
      "Epoch 25/80\n",
      "811/811 [==============================] - 12s 15ms/step - loss: 0.7069 - acc: 0.7411 - val_loss: 0.6606 - val_acc: 0.7561\n",
      "Epoch 26/80\n",
      "811/811 [==============================] - 12s 15ms/step - loss: 0.7036 - acc: 0.7338 - val_loss: 0.6874 - val_acc: 0.7406\n",
      "Epoch 27/80\n",
      "811/811 [==============================] - 13s 16ms/step - loss: 0.7042 - acc: 0.7365 - val_loss: 0.6650 - val_acc: 0.7461\n",
      "Epoch 28/80\n",
      "811/811 [==============================] - 12s 15ms/step - loss: 0.6891 - acc: 0.7425 - val_loss: 0.6625 - val_acc: 0.7517\n",
      "\n",
      "Epoch 00028: ReduceLROnPlateau reducing learning rate to 0.0002500000118743628.\n",
      "Epoch 29/80\n",
      "811/811 [==============================] - 12s 14ms/step - loss: 0.6728 - acc: 0.7445 - val_loss: 0.6680 - val_acc: 0.7506\n",
      "Epoch 30/80\n",
      "811/811 [==============================] - 11s 14ms/step - loss: 0.6647 - acc: 0.7510 - val_loss: 0.6531 - val_acc: 0.7461\n",
      "Epoch 31/80\n",
      "811/811 [==============================] - 12s 14ms/step - loss: 0.6630 - acc: 0.7498 - val_loss: 0.6597 - val_acc: 0.7417\n",
      "\n",
      "Epoch 00031: ReduceLROnPlateau reducing learning rate to 0.0001250000059371814.\n",
      "Epoch 32/80\n",
      "811/811 [==============================] - 11s 14ms/step - loss: 0.6552 - acc: 0.7549 - val_loss: 0.6596 - val_acc: 0.7406\n",
      "Epoch 33/80\n",
      "811/811 [==============================] - 12s 14ms/step - loss: 0.6518 - acc: 0.7557 - val_loss: 0.6533 - val_acc: 0.7506\n",
      "Epoch 34/80\n",
      "811/811 [==============================] - 12s 14ms/step - loss: 0.6498 - acc: 0.7591 - val_loss: 0.6458 - val_acc: 0.7517\n",
      "\n",
      "Epoch 00034: ReduceLROnPlateau reducing learning rate to 6.25000029685907e-05.\n",
      "Epoch 35/80\n",
      "811/811 [==============================] - 12s 15ms/step - loss: 0.6403 - acc: 0.7602 - val_loss: 0.6430 - val_acc: 0.7506\n",
      "Epoch 36/80\n",
      "811/811 [==============================] - 12s 15ms/step - loss: 0.6433 - acc: 0.7515 - val_loss: 0.6446 - val_acc: 0.7494\n",
      "Epoch 37/80\n",
      "811/811 [==============================] - 13s 16ms/step - loss: 0.6367 - acc: 0.7580 - val_loss: 0.6431 - val_acc: 0.7528\n",
      "\n",
      "Epoch 00037: ReduceLROnPlateau reducing learning rate to 3.125000148429535e-05.\n",
      "Epoch 38/80\n",
      "811/811 [==============================] - 12s 15ms/step - loss: 0.6287 - acc: 0.7640 - val_loss: 0.6479 - val_acc: 0.7528\n",
      "Epoch 39/80\n",
      "811/811 [==============================] - 12s 14ms/step - loss: 0.6300 - acc: 0.7624 - val_loss: 0.6442 - val_acc: 0.7561\n",
      "Epoch 40/80\n",
      "811/811 [==============================] - 12s 15ms/step - loss: 0.6392 - acc: 0.7599 - val_loss: 0.6496 - val_acc: 0.7594\n",
      "Epoch 41/80\n",
      "811/811 [==============================] - 12s 15ms/step - loss: 0.6268 - acc: 0.7600 - val_loss: 0.6409 - val_acc: 0.7517\n",
      "Epoch 42/80\n",
      "811/811 [==============================] - 12s 14ms/step - loss: 0.6366 - acc: 0.7572 - val_loss: 0.6474 - val_acc: 0.7550\n",
      "Epoch 43/80\n",
      "811/811 [==============================] - 12s 14ms/step - loss: 0.6305 - acc: 0.7610 - val_loss: 0.6406 - val_acc: 0.7605\n",
      "Epoch 44/80\n",
      "811/811 [==============================] - 12s 14ms/step - loss: 0.6374 - acc: 0.7634 - val_loss: 0.6447 - val_acc: 0.7572\n",
      "Epoch 45/80\n",
      "811/811 [==============================] - 12s 15ms/step - loss: 0.6310 - acc: 0.7646 - val_loss: 0.6442 - val_acc: 0.7594\n",
      "Epoch 46/80\n",
      "811/811 [==============================] - 12s 15ms/step - loss: 0.6391 - acc: 0.7666 - val_loss: 0.6409 - val_acc: 0.7594\n",
      "\n",
      "Epoch 00046: ReduceLROnPlateau reducing learning rate to 1.5625000742147677e-05.\n",
      "Epoch 47/80\n",
      "811/811 [==============================] - 12s 14ms/step - loss: 0.6293 - acc: 0.7629 - val_loss: 0.6441 - val_acc: 0.7550\n",
      "Epoch 48/80\n",
      "811/811 [==============================] - 12s 14ms/step - loss: 0.6366 - acc: 0.7642 - val_loss: 0.6421 - val_acc: 0.7583\n",
      "Epoch 49/80\n",
      "811/811 [==============================] - 12s 15ms/step - loss: 0.6236 - acc: 0.7617 - val_loss: 0.6405 - val_acc: 0.7605\n",
      "\n",
      "Epoch 00049: ReduceLROnPlateau reducing learning rate to 1e-05.\n",
      "Epoch 50/80\n",
      "811/811 [==============================] - 14s 17ms/step - loss: 0.6311 - acc: 0.7672 - val_loss: 0.6449 - val_acc: 0.7561\n",
      "Epoch 51/80\n",
      "811/811 [==============================] - 14s 18ms/step - loss: 0.6342 - acc: 0.7591 - val_loss: 0.6422 - val_acc: 0.7594\n",
      "Epoch 52/80\n",
      "811/811 [==============================] - 12s 15ms/step - loss: 0.6285 - acc: 0.7644 - val_loss: 0.6433 - val_acc: 0.7572\n",
      "Epoch 53/80\n",
      "811/811 [==============================] - 12s 15ms/step - loss: 0.6386 - acc: 0.7602 - val_loss: 0.6420 - val_acc: 0.7594\n",
      "Epoch 54/80\n",
      "811/811 [==============================] - 12s 14ms/step - loss: 0.6195 - acc: 0.7678 - val_loss: 0.6413 - val_acc: 0.7594\n",
      "Epoch 55/80\n",
      "811/811 [==============================] - 12s 14ms/step - loss: 0.6341 - acc: 0.7609 - val_loss: 0.6434 - val_acc: 0.7561\n"
     ]
    },
    {
     "name": "stdout",
     "output_type": "stream",
     "text": [
      "Epoch 56/80\n",
      "811/811 [==============================] - 12s 15ms/step - loss: 0.6291 - acc: 0.7672 - val_loss: 0.6414 - val_acc: 0.7605\n",
      "Epoch 57/80\n",
      "811/811 [==============================] - 12s 14ms/step - loss: 0.6224 - acc: 0.7656 - val_loss: 0.6425 - val_acc: 0.7550\n",
      "Epoch 58/80\n",
      "811/811 [==============================] - 11s 14ms/step - loss: 0.6300 - acc: 0.7609 - val_loss: 0.6417 - val_acc: 0.7583\n",
      "Epoch 59/80\n",
      "811/811 [==============================] - 12s 15ms/step - loss: 0.6184 - acc: 0.7698 - val_loss: 0.6419 - val_acc: 0.7583\n",
      "Epoch 60/80\n",
      "811/811 [==============================] - 12s 15ms/step - loss: 0.6277 - acc: 0.7647 - val_loss: 0.6420 - val_acc: 0.7583\n",
      "Epoch 61/80\n",
      "811/811 [==============================] - 13s 15ms/step - loss: 0.6432 - acc: 0.7581 - val_loss: 0.6422 - val_acc: 0.7572\n",
      "Epoch 62/80\n",
      "811/811 [==============================] - 12s 15ms/step - loss: 0.6180 - acc: 0.7633 - val_loss: 0.6467 - val_acc: 0.7561\n",
      "Epoch 63/80\n",
      "811/811 [==============================] - 13s 16ms/step - loss: 0.6290 - acc: 0.7628 - val_loss: 0.6419 - val_acc: 0.7605\n",
      "Epoch 64/80\n",
      "811/811 [==============================] - 12s 15ms/step - loss: 0.6238 - acc: 0.7636 - val_loss: 0.6412 - val_acc: 0.7572\n",
      "Epoch 65/80\n",
      "811/811 [==============================] - 13s 15ms/step - loss: 0.6230 - acc: 0.7694 - val_loss: 0.6439 - val_acc: 0.7539\n",
      "Epoch 66/80\n",
      "811/811 [==============================] - 12s 15ms/step - loss: 0.6254 - acc: 0.7629 - val_loss: 0.6421 - val_acc: 0.7561\n",
      "Epoch 67/80\n",
      "811/811 [==============================] - 11s 14ms/step - loss: 0.6275 - acc: 0.7634 - val_loss: 0.6426 - val_acc: 0.7550\n",
      "Epoch 68/80\n",
      "811/811 [==============================] - 12s 14ms/step - loss: 0.6205 - acc: 0.7654 - val_loss: 0.6449 - val_acc: 0.7550\n",
      "Epoch 69/80\n",
      "811/811 [==============================] - 12s 14ms/step - loss: 0.6313 - acc: 0.7625 - val_loss: 0.6432 - val_acc: 0.7561\n",
      "Epoch 70/80\n",
      "811/811 [==============================] - 13s 16ms/step - loss: 0.6307 - acc: 0.7605 - val_loss: 0.6438 - val_acc: 0.7550\n",
      "Epoch 71/80\n",
      "811/811 [==============================] - 12s 15ms/step - loss: 0.6255 - acc: 0.7626 - val_loss: 0.6428 - val_acc: 0.7583\n",
      "Epoch 72/80\n",
      "811/811 [==============================] - 12s 15ms/step - loss: 0.6238 - acc: 0.7672 - val_loss: 0.6424 - val_acc: 0.7605\n",
      "Epoch 73/80\n",
      "811/811 [==============================] - 11s 14ms/step - loss: 0.6294 - acc: 0.7608 - val_loss: 0.6402 - val_acc: 0.7583\n",
      "Epoch 74/80\n",
      "811/811 [==============================] - 12s 15ms/step - loss: 0.6305 - acc: 0.7623 - val_loss: 0.6432 - val_acc: 0.7561\n",
      "Epoch 75/80\n",
      "811/811 [==============================] - 13s 16ms/step - loss: 0.6291 - acc: 0.7626 - val_loss: 0.6443 - val_acc: 0.7550\n",
      "Epoch 76/80\n",
      "811/811 [==============================] - 13s 16ms/step - loss: 0.6260 - acc: 0.7619 - val_loss: 0.6438 - val_acc: 0.7528- ac\n",
      "Epoch 77/80\n",
      "811/811 [==============================] - 12s 15ms/step - loss: 0.6270 - acc: 0.7596 - val_loss: 0.6442 - val_acc: 0.7561\n",
      "Epoch 78/80\n",
      "811/811 [==============================] - 12s 15ms/step - loss: 0.6249 - acc: 0.7650 - val_loss: 0.6414 - val_acc: 0.7539\n",
      "Epoch 79/80\n",
      "811/811 [==============================] - 12s 15ms/step - loss: 0.6226 - acc: 0.7642 - val_loss: 0.6394 - val_acc: 0.7561\n",
      "Epoch 80/80\n",
      "811/811 [==============================] - 13s 16ms/step - loss: 0.6333 - acc: 0.7654 - val_loss: 0.6417 - val_acc: 0.7583\n"
     ]
    }
   ],
   "source": [
    "# TRAINING THE MODEL\n",
    "\n",
    "# EPOCH = one time of forward and back propagation is called ONE EPOCH\n",
    "epochs = 80 \n",
    "\n",
    "# BATCH_SIZE = while making forward prop, how many images to forward prop in one time\n",
    "# The batch size defines the number of samples that will be propagated through the network.\n",
    "batch_size = 10\n",
    "\n",
    "# TRAINING\n",
    "history = model.fit_generator( datagen.flow(x_train, y_train, batch_size = batch_size),\n",
    "                              epochs = epochs, \n",
    "                              validation_data = (x_validate,y_validate),\n",
    "                              verbose = 1, \n",
    "                              steps_per_epoch = x_train.shape[0] // batch_size,\n",
    "                              callbacks = [learning_rate_reduction])\n",
    "\n",
    "\n",
    "# NOW THE NEURAL NETWORK IS TRAINED.\n",
    "# We can make predictions easily."
   ]
  },
  {
   "cell_type": "markdown",
   "metadata": {},
   "source": [
    "# Step 18 : Testing and Model Evaluation"
   ]
  },
  {
   "cell_type": "markdown",
   "metadata": {},
   "source": [
    "Testing means testing the neural network with test images \n",
    "\n",
    "(test data, which the neural network have never seen) to figure out THE ACCURACY, \n",
    "\n",
    "in other words, how accurate this neural network is.\n"
   ]
  },
  {
   "cell_type": "code",
   "execution_count": 24,
   "metadata": {},
   "outputs": [
    {
     "name": "stdout",
     "output_type": "stream",
     "text": [
      "1002/1002 [==============================] - 1s 735us/step\n",
      "Test: accuracy = 74.850299  ;  loss = 0.701465\n"
     ]
    }
   ],
   "source": [
    "# Now make predictions, BASED ON TEST DATA, and TRAINED MODEL\n",
    "# make predicitions and control them \n",
    "loss, accuracy = model.evaluate(x_test, y_test, verbose=1)\n",
    "# Now we have TRUE LOSS AND TRUE ACCURACY\n",
    "\n",
    "# I choose to use PERCENTAGE REPRESENTATION\n",
    "# it means multiply with 100\n",
    "\n",
    "percentageAccuracy = accuracy * 100\n",
    "\n",
    "# Print ACCURACY AND LOSS\n",
    "print(\"Test: accuracy = %f  ;  loss = %f\" % (percentageAccuracy, loss))\n",
    "\n",
    "\n",
    "# Save the model to use later on\n",
    "model.save(\"skin-cancer-model.h5\")"
   ]
  },
  {
   "cell_type": "code",
   "execution_count": 38,
   "metadata": {},
   "outputs": [
    {
     "data": {
      "text/plain": [
       "'\\n# CODE FOR LOADING THE MODEL\\n\\nloadedModel = keras.models.load_model(\"skin-cancer-model.h5\")\\n\\n'"
      ]
     },
     "execution_count": 38,
     "metadata": {},
     "output_type": "execute_result"
    }
   ],
   "source": [
    "\"\"\"\n",
    "# CODE FOR LOADING THE MODEL\n",
    "\n",
    "loadedModel = keras.models.load_model(\"skin-cancer-model.h5\")\n",
    "\n",
    "\"\"\""
   ]
  },
  {
   "cell_type": "markdown",
   "metadata": {},
   "source": [
    "### Plot Model Accuracy and Model Loss Graphs"
   ]
  },
  {
   "cell_type": "code",
   "execution_count": 42,
   "metadata": {},
   "outputs": [],
   "source": [
    "# Plot model's loss and accuracy historically\n",
    "def plot_model_history(model_history):\n",
    "    \n",
    "    fig, axs = plt.subplots( 1 , 2, figsize=(15,5))\n",
    "    \n",
    "    # summarize history for accuracy\n",
    "    axs[0].plot(range(1,len(model_history.history['acc'])+1),model_history.history['acc'])\n",
    "    axs[0].plot(range(1,len(model_history.history['val_acc'])+1),model_history.history['val_acc'])\n",
    "    \n",
    "    axs[0].set_title('Model Accuracy')\n",
    "    axs[0].set_ylabel('Accuracy')\n",
    "    axs[0].set_xlabel('Epoch')\n",
    "    \n",
    "    axs[0].set_xticks(np.arange(1,len(model_history.history['acc'])+1),len(model_history.history['acc'])/10)\n",
    "    axs[0].legend(['train', 'val'], loc = 'best')\n",
    "    \n",
    "    # Summarize History for Loss\n",
    "    axs[1].plot(range(1,len(model_history.history['loss'])+1), model_history.history['loss'])\n",
    "    axs[1].plot(range(1,len(model_history.history['val_loss'])+1),model_history.history['val_loss'])\n",
    "    \n",
    "    axs[1].set_title('Model Loss')\n",
    "    axs[1].set_ylabel('Loss')\n",
    "    axs[1].set_xlabel('Epoch')\n",
    "    \n",
    "    axs[1].set_xticks(np.arange(1,len(model_history.history['loss'])+1),len(model_history.history['loss'])/10)\n",
    "    axs[1].legend(['train', 'val'], loc='best')\n",
    "    \n",
    "    plt.show()"
   ]
  },
  {
   "cell_type": "code",
   "execution_count": 43,
   "metadata": {},
   "outputs": [
    {
     "data": {
      "image/png": "[encoded data removed]",
      "text/plain": [
       "<Figure size 1080x360 with 2 Axes>"
      ]
     },
     "metadata": {
      "needs_background": "light"
     },
     "output_type": "display_data"
    }
   ],
   "source": [
    "# Now call \n",
    "plot_model_history(history)"
   ]
  },
  {
   "cell_type": "markdown",
   "metadata": {},
   "source": [
    "### Plotting the Confusion Matrix"
   ]
  },
  {
   "cell_type": "markdown",
   "metadata": {},
   "source": [
    "#### Confusion Matrix\n",
    "\n",
    "Confusion Matrix is a performance measurement for machine learning classification problem where output can be two or more classes.\n"
   ]
  },
  {
   "cell_type": "markdown",
   "metadata": {},
   "source": [
    "Confusion matrix shows us where the NN is performing right or wrong, easily.\n",
    "To illustrate this Confusion Matrix concept, we can use Dress example."
   ]
  },
  {
   "cell_type": "markdown",
   "metadata": {},
   "source": [
    "![Dress-confusion-matrix](https://www.researchgate.net/profile/Lina_Yao4/publication/325921786/figure/fig3/AS:640163516526592@1529638284399/Confusion-Matrix-on-the-prediction-Fashion-MNIST-dataset.png)"
   ]
  },
  {
   "cell_type": "markdown",
   "metadata": {},
   "source": [
    "Above, you can see the confusion matrix for dresses.\n",
    "\n",
    "It shows us that the neural network SOMETIMES CONFUSES T-SHIRTS WITH SHIRTS. \n",
    "(The rank is 88.)\n",
    "Which is obvious actually, since t-shirts and shirts look pretty similar."
   ]
  },
  {
   "cell_type": "code",
   "execution_count": 51,
   "metadata": {},
   "outputs": [
    {
     "data": {
      "image/png": "[encoded data removed]",
      "text/plain": [
       "<Figure size 432x288 with 2 Axes>"
      ]
     },
     "metadata": {
      "needs_background": "light"
     },
     "output_type": "display_data"
    }
   ],
   "source": [
    "\n",
    "# Plot the Confusion Matrix\n",
    "def plot_confusion_matrix(cm, classes,\n",
    "                          normalize = False,\n",
    "                          title= 'The Confusion matrix',\n",
    "                          cmap = plt.cm.Blues):\n",
    "    \"\"\"\n",
    "    This function prints and plots the confusion matrix.\n",
    "    \"\"\"\n",
    "    \n",
    "    plt.imshow(cm, interpolation='nearest', cmap=cmap)\n",
    "    plt.title(title)\n",
    "    plt.colorbar()\n",
    "    tick_marks = np.arange(len(classes))\n",
    "    \n",
    "    plt.xticks(tick_marks, classes, rotation=45)\n",
    "    plt.yticks(tick_marks, classes)\n",
    "\n",
    "    if normalize:\n",
    "        cm = cm.astype('float') / cm.sum(axis=1)[:, np.newaxis]\n",
    "\n",
    "    thresh = cm.max() / 2.\n",
    "    for i, j in itertools.product(range(cm.shape[0]), range(cm.shape[1])):\n",
    "        plt.text(j, i, cm[i, j],\n",
    "                 horizontalalignment=\"center\",\n",
    "                 color = \"white\" if cm[i, j] > thresh else \"black\")\n",
    "\n",
    "    plt.tight_layout()\n",
    "    \n",
    "    plt.ylabel('True label')\n",
    "    \n",
    "    plt.xlabel('Predicted label')\n",
    "\n",
    "# Predict the values from the validation dataset\n",
    "Y_pred = model.predict(x_validate)\n",
    "# Convert predictions classes to one hot vectors \n",
    "Y_pred_classes = np.argmax(Y_pred, axis = 1) \n",
    "# Convert validation observations to one hot vectors\n",
    "Y_true = np.argmax(y_validate,axis = 1) \n",
    "# compute the confusion matrix\n",
    "confusion_mtx = confusion_matrix(Y_true, Y_pred_classes)\n",
    "\n",
    "# Plot the confusion matrix\n",
    "plot_confusion_matrix(confusion_mtx, classes = lesionTypesDictionary.keys())  "
   ]
  },
  {
   "cell_type": "markdown",
   "metadata": {},
   "source": [
    "#### Interpretation of Confusion Matrix\n",
    "\n",
    "As seen, the Neural Networks confuses Akiec with BKL and Vasc a lot. "
   ]
  },
  {
   "cell_type": "markdown",
   "metadata": {},
   "source": [
    "# Step 19 : Conclusion\n"
   ]
  },
  {
   "cell_type": "markdown",
   "metadata": {},
   "source": [
    "\n",
    "### What can be done for accuracy improvement ?\n",
    "\n",
    "-> Image Dimensions must be increased \n",
    "\n",
    "-> Epoch number must be increased\n",
    "\n",
    "-> Number of hidden layers can be increased\n",
    "\n",
    "-> Number of convolutional layers can be increased\n",
    "\n",
    "Those will result in an improvement in terms of accuracy.\n",
    "\n",
    "\n",
    "\n"
   ]
  },
  {
   "cell_type": "markdown",
   "metadata": {},
   "source": [
    "**FINALLY**\n",
    "\n",
    "Every year, tens of thousand of people die becaues of misdiagnoses.\n",
    "\n",
    "The best doctor is no more than 70% accurate.\n",
    "\n",
    "This neural network is 75% accurate with EVEN 10 minutes of training. (Not 50 years, compared to a doctor)\n",
    "\n",
    "If those steps above are taken, the accuracy can be improved till 85%.\n"
   ]
  },
  {
   "cell_type": "markdown",
   "metadata": {},
   "source": [
    "**REGARDLESS**\n",
    "\n",
    "This is actually a PROOF OF CONCEPT. \n",
    "\n",
    "A piece FROM THE FUTURE.\n",
    "\n",
    "The medical diagnoses will be done by AI in the future.\n"
   ]
  }
 ],
 "metadata": {
  "kernelspec": {
   "display_name": "Python 3",
   "language": "python",
   "name": "python3"
  },
  "language_info": {
   "codemirror_mode": {
    "name": "ipython",
    "version": 3
   },
   "file_extension": ".py",
   "mimetype": "text/x-python",
   "name": "python",
   "nbconvert_exporter": "python",
   "pygments_lexer": "ipython3",
   "version": "3.7.3"
  }
 },
 "nbformat": 4,
 "nbformat_minor": 4
}
